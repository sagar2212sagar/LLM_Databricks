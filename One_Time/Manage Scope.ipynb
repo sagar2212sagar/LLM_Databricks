{
 "cells": [
  {
   "cell_type": "code",
   "execution_count": 0,
   "metadata": {
    "application/vnd.databricks.v1+cell": {
     "cellMetadata": {},
     "inputWidgets": {},
     "nuid": "b06622bd-0f1b-4901-8647-66c748cab5ef",
     "showTitle": false,
     "tableResultSettingsMap": {},
     "title": ""
    }
   },
   "outputs": [],
   "source": [
    "#geekcoders_llm scope\n",
    "#keys -- s3_key and s3_secret"
   ]
  },
  {
   "cell_type": "code",
   "execution_count": 0,
   "metadata": {
    "application/vnd.databricks.v1+cell": {
     "cellMetadata": {},
     "inputWidgets": {},
     "nuid": "63316d92-aca2-475c-b7b1-a3d236f2c35c",
     "showTitle": false,
     "tableResultSettingsMap": {},
     "title": ""
    }
   },
   "outputs": [],
   "source": [
    "import requests\n",
    "\n",
    "# Databricks workspace information\n",
    "DATABRICKS_INSTANCE = \"https://<your-databricks-instance>\"\n",
    "TOKEN = \"dapiXXXXXXXXXXXXXXX\"  # Replace with your Databricks access token\n",
    "\n",
    "# API endpoint for creating a scope\n",
    "URL = f\"{DATABRICKS_INSTANCE}/api/2.0/secrets/scopes/create\"\n",
    "\n",
    "# Define scope name and backend\n",
    "payload = {\n",
    "    \"scope\": \"my-secret-scope\",  # Replace with your scope name\n",
    "    \"scope_backend_type\": \"DATABRICKS\"  # Use \"AWS_SECRETS_MANAGER\" if integrating with AWS Secrets Manager\n",
    "}\n",
    "\n",
    "# Headers\n",
    "headers = {\n",
    "    \"Authorization\": f\"Bearer {TOKEN}\",\n",
    "    \"Content-Type\": \"application/json\"\n",
    "}\n",
    "\n",
    "# Send request to create the scope\n",
    "response = requests.post(URL, json=payload, headers=headers)\n",
    "\n",
    "# Print response\n",
    "if response.status_code == 200:\n",
    "    print(\"Secret scope created successfully!\")\n",
    "else:\n",
    "    print(\"Error:\", response.json())\n"
   ]
  },
  {
   "cell_type": "code",
   "execution_count": 0,
   "metadata": {
    "application/vnd.databricks.v1+cell": {
     "cellMetadata": {},
     "inputWidgets": {},
     "nuid": "7a8cf683-ff7a-4946-8f68-7736740be257",
     "showTitle": false,
     "tableResultSettingsMap": {},
     "title": ""
    }
   },
   "outputs": [],
   "source": [
    "import requests\n",
    "\n",
    "# Databricks workspace details\n",
    "DATABRICKS_INSTANCE = \"https://<your-databricks-instance>\"  # Replace with your instance\n",
    "TOKEN = \"dapiXXXXXXXXXXXXXXX\"  # Replace with your Databricks token\n",
    "\n",
    "# API endpoint for saving a secret\n",
    "URL = f\"{DATABRICKS_INSTANCE}/api/2.0/secrets/put\"\n",
    "\n",
    "# Define scope name, secret key, and value\n",
    "payload = {\n",
    "    \"scope\": \"my-secret-scope\",  # Replace with your scope name\n",
    "    \"key\": \"my-secret-key\",      # Replace with your secret key\n",
    "    \"string_value\": \"my-secret-value\"  # Replace with your secret value\n",
    "}\n",
    "\n",
    "# Headers\n",
    "headers = {\n",
    "    \"Authorization\": f\"Bearer {TOKEN}\",\n",
    "    \"Content-Type\": \"application/json\"\n",
    "}\n",
    "\n",
    "# Send request to save the secret\n",
    "response = requests.post(URL, json=payload, headers=headers)\n",
    "\n",
    "# Print response\n",
    "if response.status_code == 200:\n",
    "    print(\"Secret saved successfully!\")\n",
    "else:\n",
    "    print(\"Error:\", response.json())\n"
   ]
  }
 ],
 "metadata": {
  "application/vnd.databricks.v1+notebook": {
   "computePreferences": null,
   "dashboards": [],
   "environmentMetadata": {
    "base_environment": "",
    "environment_version": "2"
   },
   "language": "python",
   "notebookMetadata": {
    "pythonIndentUnit": 4
   },
   "notebookName": "Manage Scope",
   "widgets": {}
  },
  "language_info": {
   "name": "python"
  }
 },
 "nbformat": 4,
 "nbformat_minor": 0
}
