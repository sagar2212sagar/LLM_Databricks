{
 "cells": [
  {
   "cell_type": "code",
   "execution_count": 0,
   "metadata": {
    "application/vnd.databricks.v1+cell": {
     "cellMetadata": {
      "byteLimit": 2048000,
      "rowLimit": 10000
     },
     "inputWidgets": {},
     "nuid": "a9ad40cd-fc68-46d5-9282-cd4913a7852b",
     "showTitle": false,
     "tableResultSettingsMap": {},
     "title": ""
    }
   },
   "outputs": [],
   "source": [
    "dbutils.widgets.text(\"catalog_name\",\"\")\n",
    "dbutils.widgets.text(\"schema_name\",\"\")\n",
    "dbutils.widgets.text(\"table_name\",\"\")\n",
    "dbutils.widgets.text(\"s3_bucket\",\"\")\n"
   ]
  },
  {
   "cell_type": "code",
   "execution_count": 0,
   "metadata": {
    "application/vnd.databricks.v1+cell": {
     "cellMetadata": {
      "byteLimit": 2048000,
      "rowLimit": 10000
     },
     "inputWidgets": {},
     "nuid": "39cff857-b75c-47d7-acbf-c167cbd3700f",
     "showTitle": false,
     "tableResultSettingsMap": {},
     "title": ""
    }
   },
   "outputs": [],
   "source": [
    "catalog_name=dbutils.widgets.get(\"catalog_name\")\n",
    "schema_name=dbutils.widgets.get(\"schema_name\")\n",
    "table_name=dbutils.widgets.get(\"table_name\")\n",
    "s3_bucket=dbutils.widgets.get(\"s3_bucket\")"
   ]
  },
  {
   "cell_type": "code",
   "execution_count": 0,
   "metadata": {
    "application/vnd.databricks.v1+cell": {
     "cellMetadata": {
      "byteLimit": 2048000,
      "rowLimit": 10000
     },
     "inputWidgets": {},
     "nuid": "d359709c-94cf-4628-9190-497207dc597b",
     "showTitle": false,
     "tableResultSettingsMap": {},
     "title": ""
    }
   },
   "outputs": [],
   "source": [
    "s3_key=dbutils.secrets.get(scope=\"geekcoders_llm\",key=\"s3_key\")\n",
    "s3_secret=dbutils.secrets.get(scope=\"geekcoders_llm\",key=\"s3_secret\")"
   ]
  },
  {
   "cell_type": "code",
   "execution_count": 0,
   "metadata": {
    "application/vnd.databricks.v1+cell": {
     "cellMetadata": {
      "byteLimit": 2048000,
      "rowLimit": 10000
     },
     "inputWidgets": {},
     "nuid": "f4780688-885e-4433-b8b6-8e5c1964fc4a",
     "showTitle": false,
     "tableResultSettingsMap": {},
     "title": ""
    }
   },
   "outputs": [],
   "source": [
    "spark.conf.set(\"fs.s3a.access.key\", s3_key)\n",
    "spark.conf.set(\"fs.s3a.secret.key\", s3_secret)"
   ]
  },
  {
   "cell_type": "code",
   "execution_count": 0,
   "metadata": {
    "application/vnd.databricks.v1+cell": {
     "cellMetadata": {
      "byteLimit": 2048000,
      "rowLimit": 10000
     },
     "inputWidgets": {},
     "nuid": "032d9758-53c7-4bde-a9a8-676a71cad5dc",
     "showTitle": false,
     "tableResultSettingsMap": {},
     "title": ""
    }
   },
   "outputs": [],
   "source": [
    "from pyspark.sql.functions import input_file_name\n",
    "from pyspark.sql.types import StructType, StructField, StringType, IntegerType\n",
    "\n",
    "# S3 bucket details\n",
    "checkpoint_path = f\"/Volumes/{catalog_name}/{schema_name}/metadata_files/checkpoints/{table_name}\"\n",
    "bronze_table_path = f\"{catalog_name}.{schema_name}.{table_name}\"\n",
    "\n",
    "\n",
    "if(spark.catalog.tableExists(bronze_table_path)):\n",
    "    includeExistingFiles_value=\"False\"\n",
    "else:\n",
    "    includeExistingFiles_value=\"True\"\n",
    "\n",
    "\n",
    "# Read data from S3 using AutoLoader\n",
    "df = (\n",
    "    spark.readStream.format(\"cloudFiles\")\n",
    "    .option(\n",
    "        \"cloudFiles.format\", \"csv\"\n",
    "    )  # Change format as needed (csv, json, parquet, etc.)\n",
    "    .option(\n",
    "        \"cloudFiles.inferSchema\", \"true\"\n",
    "    )  # Set to \"false\" if using a predefined schema\n",
    "    .option(\"cloudFiles.schemaLocation\", checkpoint_path)\n",
    "    .option(\"cloudFiles.includeExistingFiles\", includeExistingFiles_value)\n",
    "    .load(s3_bucket)\n",
    "    .withColumn(\"source_file\", input_file_name())\n",
    ")\n",
    "\n",
    "# Write data to Bronze Delta Table in append mode\n",
    "(\n",
    "    df.writeStream.format(\"delta\")\n",
    "    .outputMode(\"append\")\n",
    "    .option(\"checkpointLocation\", checkpoint_path)\n",
    "    .trigger(once=True)\n",
    "    .toTable(f'{bronze_table_path}')\n",
    "    .awaitTermination()\n",
    "    \n",
    ")\n"
   ]
  }
 ],
 "metadata": {
  "application/vnd.databricks.v1+notebook": {
   "computePreferences": null,
   "dashboards": [],
   "environmentMetadata": {
    "base_environment": "",
    "environment_version": "2"
   },
   "language": "python",
   "notebookMetadata": {
    "mostRecentlyExecutedCommandWithImplicitDF": {
     "commandId": 4680383760143090,
     "dataframes": [
      "_sqldf"
     ]
    },
    "pythonIndentUnit": 4
   },
   "notebookName": "Ingest S3 bucket to Bronze Layer",
   "widgets": {
    "catalog_name": {
     "currentValue": "geekcoders_dev",
     "nuid": "9dbddffc-e5d5-4544-82e8-eea80e0ff732",
     "typedWidgetInfo": {
      "autoCreated": false,
      "defaultValue": "",
      "label": null,
      "name": "catalog_name",
      "options": {
       "widgetDisplayType": "Text",
       "validationRegex": null
      },
      "parameterDataType": "String"
     },
     "widgetInfo": {
      "widgetType": "text",
      "defaultValue": "",
      "label": null,
      "name": "catalog_name",
      "options": {
       "widgetType": "text",
       "autoCreated": null,
       "validationRegex": null
      }
     }
    },
    "s3_bucket": {
     "currentValue": "s3://healthcares3/patients_data/",
     "nuid": "4dcfd235-fea4-4a6f-9ed0-49c37ede0146",
     "typedWidgetInfo": {
      "autoCreated": false,
      "defaultValue": "",
      "label": null,
      "name": "s3_bucket",
      "options": {
       "widgetDisplayType": "Text",
       "validationRegex": null
      },
      "parameterDataType": "String"
     },
     "widgetInfo": {
      "widgetType": "text",
      "defaultValue": "",
      "label": null,
      "name": "s3_bucket",
      "options": {
       "widgetType": "text",
       "autoCreated": null,
       "validationRegex": null
      }
     }
    },
    "schema_name": {
     "currentValue": "bronze",
     "nuid": "7eebc587-015e-4d3e-9cc2-ca6c86630269",
     "typedWidgetInfo": {
      "autoCreated": false,
      "defaultValue": "",
      "label": null,
      "name": "schema_name",
      "options": {
       "widgetDisplayType": "Text",
       "validationRegex": null
      },
      "parameterDataType": "String"
     },
     "widgetInfo": {
      "widgetType": "text",
      "defaultValue": "",
      "label": null,
      "name": "schema_name",
      "options": {
       "widgetType": "text",
       "autoCreated": null,
       "validationRegex": null
      }
     }
    },
    "table_name": {
     "currentValue": "patient_data",
     "nuid": "5247cad8-0ae0-41d3-8cb9-928ffc9bc007",
     "typedWidgetInfo": {
      "autoCreated": false,
      "defaultValue": "",
      "label": null,
      "name": "table_name",
      "options": {
       "widgetDisplayType": "Text",
       "validationRegex": null
      },
      "parameterDataType": "String"
     },
     "widgetInfo": {
      "widgetType": "text",
      "defaultValue": "",
      "label": null,
      "name": "table_name",
      "options": {
       "widgetType": "text",
       "autoCreated": null,
       "validationRegex": null
      }
     }
    }
   }
  },
  "language_info": {
   "name": "python"
  }
 },
 "nbformat": 4,
 "nbformat_minor": 0
}
